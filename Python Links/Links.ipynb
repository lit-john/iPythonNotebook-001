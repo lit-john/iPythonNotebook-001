{
 "cells": [
  {
   "cell_type": "markdown",
   "metadata": {},
   "source": [
    "## Learning Python\n",
    "+ [Introduction to Python](http://introtopython.org/) - Really like this. It was created by a teacher for secondary school students.\n",
    "+ [The Hitchhiker's Guide to Python](http://docs.python-guide.org/en/latest/) - This is a great resource of information, especially the section on \"Scenario Guide for Python Applications\".\n",
    "\n",
    "\n",
    "## Some links\n",
    "+ [PyGame](http://inventwithpython.com/pygame/) - A really popular games package all be it a bit old\n",
    "+ [Pandas](http://pandas.pydata.org/index.html) - Python Data Analysis Library. Looks *really* interesting.\n",
    "+ [Pyglet](https://bitbucket.org/pyglet/pyglet/wiki/Home) - This looks like it could be a Processing alternative in python but I am not sure whether you can do pixel level manipulation of images or access the camera.\n"
   ]
  },
  {
   "cell_type": "code",
   "execution_count": null,
   "metadata": {
    "collapsed": true
   },
   "outputs": [],
   "source": []
  }
 ],
 "metadata": {
  "kernelspec": {
   "display_name": "Python 3",
   "language": "python",
   "name": "python3"
  },
  "language_info": {
   "codemirror_mode": {
    "name": "ipython",
    "version": 3
   },
   "file_extension": ".py",
   "mimetype": "text/x-python",
   "name": "python",
   "nbconvert_exporter": "python",
   "pygments_lexer": "ipython3",
   "version": "3.5.1"
  }
 },
 "nbformat": 4,
 "nbformat_minor": 0
}
